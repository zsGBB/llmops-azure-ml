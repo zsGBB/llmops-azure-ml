{
 "cells": [
  {
   "cell_type": "markdown",
   "metadata": {},
   "source": [
    "**_Note: In order to utilize GitHub actions please FORK the repository as opposed to cloning_**"
   ]
  },
  {
   "cell_type": "markdown",
   "metadata": {},
   "source": [
    "### Setup Conda Virtual Environment"
   ]
  },
  {
   "cell_type": "markdown",
   "metadata": {},
   "source": [
    "IMPORTANT: Populate ```.env``` file in the home directory of your repository. Use the [.sample.env](.sample.env) as a reference guide."
   ]
  },
  {
   "cell_type": "code",
   "execution_count": null,
   "metadata": {},
   "outputs": [],
   "source": [
    "from dotenv import load_dotenv, find_dotenv\n",
    "import subprocess\n",
    "import os\n",
    "\n",
    "load_dotenv(find_dotenv(), override=True)\n",
    "print(os.getenv('AZURE_OPENAI_ENDPOINT'))"
   ]
  },
  {
   "cell_type": "markdown",
   "metadata": {},
   "source": [
    "From the home directory run the folloing bash commands\n",
    "\n",
    "```bash \n",
    "conda env create --name llmops --file=./conda.yaml\n",
    "```  \n",
    "\n",
    "```bash\n",
    "conda activate llmops\n",
    "```"
   ]
  },
  {
   "cell_type": "markdown",
   "metadata": {},
   "source": [
    "### Get a Handle to the AML Workspace"
   ]
  },
  {
   "cell_type": "code",
   "execution_count": null,
   "metadata": {},
   "outputs": [],
   "source": [
    "from azure.identity import DefaultAzureCredential\n",
    "from azure.ai.ml import MLClient\n",
    "from azure.ai.ml.entities import AmlCompute\n",
    "\n",
    "\n",
    "# authenticate\n",
    "credential = DefaultAzureCredential(tenantid=os.environ.get('TENANT_ID'))\n",
    "\n",
    "# Get a handle to the workspace\n",
    "ml_client = MLClient(\n",
    "    credential=credential,\n",
    "    subscription_id = os.environ.get('SUBSCRIPTION_ID'),\n",
    "    resource_group_name = os.environ.get('RESOURCE_GROUP_NAME'),\n",
    "    workspace_name = os.environ.get('WORKSPACE_NAME'),\n",
    ")"
   ]
  },
  {
   "cell_type": "markdown",
   "metadata": {},
   "source": [
    "### Create Local PromptFlow Connection to AOAI"
   ]
  },
  {
   "cell_type": "code",
   "execution_count": null,
   "metadata": {},
   "outputs": [],
   "source": [
    "# Note: Optional (only needed for local development/testing)\n",
    "\n",
    "api_key = os.getenv(\"AZURE_OPENAI_KEY\")\n",
    "api_base = os.getenv(\"AZURE_OPENAI_ENDPOINT\")\n",
    "name = \"aoai-connect\"\n",
    "\n",
    "command = f\"pf connection create --file src/promptflows/connections/connect_aoai.yaml --set api_key={api_key} api_base={api_base} --name {name}\"\n",
    "result = subprocess.run(command,\n",
    "                        shell=True,\n",
    "                        check=True,\n",
    "                        text=True,\n",
    "                        capture_output=True)\n",
    "\n",
    "print(result.stdout)"
   ]
  },
  {
   "cell_type": "code",
   "execution_count": null,
   "metadata": {},
   "outputs": [],
   "source": [
    "!pf connection list"
   ]
  },
  {
   "cell_type": "markdown",
   "metadata": {},
   "source": [
    "### Create a Remote Connection to AOAI"
   ]
  },
  {
   "cell_type": "markdown",
   "metadata": {},
   "source": [
    "Navigate to the Azure Machine Learning Workspace --> Promptflow --> connections --> Create\n",
    "Then follow the steps to create a connection\n",
    "\n",
    "**IMPORTANT:** Name your connection 'aoai-connect'"
   ]
  },
  {
   "cell_type": "code",
   "execution_count": null,
   "metadata": {},
   "outputs": [],
   "source": [
    "## NOT YET SUPPORTED ##\n",
    "'''\n",
    "from promptflow.azure import PFClient\n",
    "from promptflow.entities import AzureOpenAIConnection\n",
    "\n",
    "pf = PFClient(credential=DefaultAzureCredential(),\n",
    "              subscription_id=os.environ.get('SUBSCRIPTION_ID'),\n",
    "              resource_group_name=os.environ.get('RESOURCE_GROUP_NAME'),\n",
    "               workspace_name=os.environ.get('WORKSPACE_NAME')\n",
    "             )\n",
    "\n",
    "aoai_connection = AzureOpenAIConnection(api_base=os.environ.get('AZURE_OPENAI_ENDPOINT'), \n",
    "                                        api_key=os.environ.get('AZURE_OPENAI_API_KEY'), \n",
    "                                        name=\"aoai-connect\", \n",
    "                                        api_type = \"azure\", \n",
    "                                        api_version=\"2024-02-01\"\n",
    "                                        )\n",
    "\n",
    "result = pf.connections.create_or_update(aoai_connection)\n",
    "print(result)\n",
    "'''"
   ]
  },
  {
   "cell_type": "markdown",
   "metadata": {},
   "source": [
    "### Setup Service Principal for Github Actions"
   ]
  },
  {
   "cell_type": "code",
   "execution_count": null,
   "metadata": {},
   "outputs": [],
   "source": [
    "subscription_id = os.getenv(\"SUBSCRIPTION_ID\")\n",
    "resource_group_name = os.getenv(\"RESOURCE_GROUP_NAME\")\n",
    "role_name = \"github_action_role\"\n",
    "\n",
    "command = f\"az ad sp create-for-rbac --name {role_name} --role contributor --scopes /subscriptions/{subscription_id}/resourceGroups/{resource_group_name} --json-auth\"\n",
    "print(command)\n",
    "result = subprocess.run(command,\n",
    "                        shell=True,\n",
    "                        check=True,\n",
    "                        text=True,\n",
    "                        capture_output=True)\n",
    "\n",
    "print(result.stdout)"
   ]
  },
  {
   "cell_type": "markdown",
   "metadata": {},
   "source": [
    "Copy the above^ JSON output and add as a secret in GitHub Secrets. Got to GitHub --> Settings --> Security --> Secrets and Variables --> Actions.  \n",
    "Add a new repository secret with the name AZURE_CREDENTIALS. Paste the json as the value and save.\n",
    "\n",
    "[Link to Documentation](https://learn.microsoft.com/en-us/azure/developer/github/connect-from-azure?tabs=azure-cli%2Cwindows#add-the-service-principal-as-a-github-secret)"
   ]
  },
  {
   "attachments": {
    "image.png": {
     "image/png": "[encoded data removed]"
    }
   },
   "cell_type": "markdown",
   "metadata": {},
   "source": [
    "Add other secrets required to your Github repository. Your end result should look like this:\n",
    "  \n",
    "![image.png](attachment:image.png)"
   ]
  },
  {
   "cell_type": "markdown",
   "metadata": {},
   "source": [
    "### Create a Remote Compute Target"
   ]
  },
  {
   "cell_type": "code",
   "execution_count": null,
   "metadata": {},
   "outputs": [],
   "source": [
    "# Create Compute Target\n",
    "\n",
    "# Name assigned to the compute cluster\n",
    "cpu_compute_target = \"remote-cpu-cluster\"\n",
    "\n",
    "try:\n",
    "    # let's see if the compute target already exists\n",
    "    cpu_cluster = ml_client.compute.get(cpu_compute_target)\n",
    "    print(f\"You already have a cluster named {cpu_compute_target}, we'll reuse it as is.\")\n",
    "\n",
    "except Exception:\n",
    "    print(\"Creating a new cpu compute target...\")\n",
    "    cpu_cluster = AmlCompute(\n",
    "        name=cpu_compute_target,\n",
    "        type=\"amlcompute\",\n",
    "        size=\"STANDARD_DS3_V2\",\n",
    "        min_instances=0,\n",
    "        max_instances=1,\n",
    "        idle_time_before_scale_down=300, # 5 minutes\n",
    "        tier=\"Dedicated\",\n",
    "    )\n",
    "    cpu_cluster = ml_client.compute.begin_create_or_update(cpu_cluster)\n",
    "\n",
    "print(cpu_cluster)"
   ]
  }
 ],
 "metadata": {
  "kernelspec": {
   "display_name": "llmops",
   "language": "python",
   "name": "python3"
  },
  "language_info": {
   "codemirror_mode": {
    "name": "ipython",
    "version": 3
   },
   "file_extension": ".py",
   "mimetype": "text/x-python",
   "name": "python",
   "nbconvert_exporter": "python",
   "pygments_lexer": "ipython3",
   "version": "3.8.19"
  }
 },
 "nbformat": 4,
 "nbformat_minor": 2
}
