{
 "cells": [
  {
   "cell_type": "markdown",
   "metadata": {},
   "source": [
    "## Evaluate an LLM"
   ]
  },
  {
   "cell_type": "markdown",
   "metadata": {},
   "source": [
    "### TODO\n",
    "Add description"
   ]
  },
  {
   "cell_type": "code",
   "execution_count": null,
   "metadata": {},
   "outputs": [],
   "source": [
    "from promptflow.client import PFClient\n",
    "import json"
   ]
  },
  {
   "cell_type": "markdown",
   "metadata": {},
   "source": [
    "### Evaluate Locally with Azure Promptflow"
   ]
  },
  {
   "cell_type": "code",
   "execution_count": null,
   "metadata": {},
   "outputs": [],
   "source": [
    "# PFClient can help manage your runs and connections.\n",
    "pf = PFClient()\n",
    "\n",
    "# Define Flows and Data\n",
    "chat_flow = \"./src/promptflows/chat_rag_wiki\" # set the flow directory\n",
    "eval_flow = \"./src/promptflows/eval_flow\" # set flow directory\n",
    "data = \"./data/input_test_data.csv\" # set the data file\n",
    "\n",
    "# Run chat flow to generate chat results\n",
    "rag_chat_run = pf.run(\n",
    "    flow=chat_flow,\n",
    "    data=data,\n",
    "    stream=False,\n",
    "    column_mapping={  # map the url field from the data to the url input of the flow\n",
    "      \"input\": \"${data.input}\",\n",
    "    }\n",
    ")\n",
    "\n",
    "# Run evaluation flow to evaluate chat results\n",
    "rag_eval_run = pf.run(\n",
    "    flow=eval_flow,\n",
    "    data=data,\n",
    "    run=rag_chat_run,\n",
    "    stream=False,\n",
    "    column_mapping={  # map the url field from the data to the url input of the flow\n",
    "      \"question\": \"${data.input}\",\n",
    "      \"answer\": \"${run.outputs.answer}\",\n",
    "      \"context\": \"${run.outputs.context}\"\n",
    "    }\n",
    ")"
   ]
  },
  {
   "cell_type": "code",
   "execution_count": null,
   "metadata": {},
   "outputs": [],
   "source": [
    "display(pf.get_details(rag_eval_run))\n",
    "\n",
    "display(json.dumps(pf.get_metrics(rag_eval_run)))"
   ]
  },
  {
   "cell_type": "code",
   "execution_count": null,
   "metadata": {},
   "outputs": [],
   "source": [
    "metric_dict = dict(pf.get_metrics(rag_eval_run))\n",
    "metric_dict['fluency']"
   ]
  },
  {
   "cell_type": "markdown",
   "metadata": {},
   "source": [
    "### Batch Endpoint Evaluation"
   ]
  },
  {
   "cell_type": "markdown",
   "metadata": {},
   "source": [
    "### "
   ]
  }
 ],
 "metadata": {
  "kernelspec": {
   "display_name": "llmops",
   "language": "python",
   "name": "python3"
  },
  "language_info": {
   "codemirror_mode": {
    "name": "ipython",
    "version": 3
   },
   "file_extension": ".py",
   "mimetype": "text/x-python",
   "name": "python",
   "nbconvert_exporter": "python",
   "pygments_lexer": "ipython3",
   "version": "3.8.19"
  }
 },
 "nbformat": 4,
 "nbformat_minor": 2
}
